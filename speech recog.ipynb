{
 "cells": [
  {
   "cell_type": "code",
   "execution_count": 1,
   "metadata": {},
   "outputs": [],
   "source": [
    "import numpy as np\n",
    "import pandas as pd\n",
    "import speech_recognition as sr\n",
    "\n",
    "def speechip():\n",
    "    r = sr.Recognizer()\n",
    "    with sr.Microphone() as source:\n",
    "        audio = r.listen(source)\n",
    "    try:\n",
    "        print(\"You said: \" + r.recognize_google(audio))\n",
    "    except sr.UnknownValueError:\n",
    "        print(\"Google Speech Recognition could not understand audio\")\n",
    "        return\n",
    "    except sr.RequestError as e:\n",
    "        print(\"Could not request results from Google Speech Recognition service; {0}\".format(e))\n",
    "        return\n",
    "    speech=r.recognize_google(audio)\n",
    "    return speech\n"
   ]
  },
  {
   "cell_type": "code",
   "execution_count": null,
   "metadata": {},
   "outputs": [
    {
     "name": "stdout",
     "output_type": "stream",
     "text": [
      "Speak: \n"
     ]
    }
   ],
   "source": [
    "print(\"Speak: \")\n",
    "s=speechip()\n",
    "print(s)"
   ]
  },
  {
   "cell_type": "code",
   "execution_count": null,
   "metadata": {},
   "outputs": [],
   "source": [
    "from gtts import gTTS\n",
    " \n",
    "import os\n",
    " \n",
    "\n",
    "\n",
    "language = 'en'\n",
    " \n",
    "\n",
    "myobj = gTTS(text=s, lang=language, slow=False)\n",
    " \n",
    "\n",
    "myobj.save(\"C:/Users/Amit Kumar Mitra/Desktop/s.mp3\")\n",
    "\n",
    "\n",
    "\n",
    "\n",
    "\n",
    "from pygame import mixer \n",
    "mixer.init()\n",
    "mixer.music.load('C:/Users/Amit Kumar Mitra/Desktop/s.mp3')\n",
    "mixer.music.play()\n",
    "\n"
   ]
  },
  {
   "cell_type": "code",
   "execution_count": null,
   "metadata": {},
   "outputs": [],
   "source": []
  }
 ],
 "metadata": {
  "kernelspec": {
   "display_name": "Python 3",
   "language": "python",
   "name": "python3"
  },
  "language_info": {
   "codemirror_mode": {
    "name": "ipython",
    "version": 3
   },
   "file_extension": ".py",
   "mimetype": "text/x-python",
   "name": "python",
   "nbconvert_exporter": "python",
   "pygments_lexer": "ipython3",
   "version": "3.6.5"
  }
 },
 "nbformat": 4,
 "nbformat_minor": 2
}
